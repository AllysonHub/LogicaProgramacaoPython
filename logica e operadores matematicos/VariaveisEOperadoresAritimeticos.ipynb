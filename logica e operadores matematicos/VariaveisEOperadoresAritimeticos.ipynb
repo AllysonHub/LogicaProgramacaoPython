{
  "nbformat": 4,
  "nbformat_minor": 0,
  "metadata": {
    "colab": {
      "provenance": [],
      "authorship_tag": "ABX9TyPVAZl3k1cpuIdIJXy+LTeY",
      "include_colab_link": true
    },
    "kernelspec": {
      "name": "python3",
      "display_name": "Python 3"
    },
    "language_info": {
      "name": "python"
    }
  },
  "cells": [
    {
      "cell_type": "markdown",
      "metadata": {
        "id": "view-in-github",
        "colab_type": "text"
      },
      "source": [
        "<a href=\"https://colab.research.google.com/github/AllysonHub/LogicaProgramacaoPython/blob/main/logica%20e%20operadores%20matematicos/VariaveisEOperadoresAritimeticos.ipynb\" target=\"_parent\"><img src=\"https://colab.research.google.com/assets/colab-badge.svg\" alt=\"Open In Colab\"/></a>"
      ]
    },
    {
      "cell_type": "markdown",
      "source": [
        "##Criando Variaveis"
      ],
      "metadata": {
        "id": "h8YX5bzIBlcu"
      }
    },
    {
      "cell_type": "markdown",
      "source": [
        "### AREA DO QUADRADO"
      ],
      "metadata": {
        "id": "FIn1r9nrKCbq"
      }
    },
    {
      "cell_type": "code",
      "execution_count": null,
      "metadata": {
        "colab": {
          "base_uri": "https://localhost:8080/"
        },
        "id": "QGEBIQKZBI6L",
        "outputId": "a26776f3-3ff9-4b11-87c8-122253fccd1a"
      },
      "outputs": [
        {
          "output_type": "stream",
          "name": "stdout",
          "text": [
            "Diga um numero:4\n",
            "A area do quadrado é 16.0\n"
          ]
        }
      ],
      "source": [
        "#entrada\n",
        "l = float(input(\"Digite a area do quadrado::\"))\n",
        "#processamento\n",
        "a = l*l\n",
        "#saida\n",
        "print(\"A area do quadrado é\", a)"
      ]
    },
    {
      "cell_type": "markdown",
      "source": [
        "### AREA DO RETANGULO"
      ],
      "metadata": {
        "id": "SCdAZzKHKIiy"
      }
    },
    {
      "cell_type": "code",
      "source": [
        "#ENTRADA\n",
        "Base = float(input(\"Digite o valor da Base: \"))\n",
        "Alt = float(input(\"Digite o valor da altura: \"))\n",
        "\n",
        "#PROCESSAMENTO\n",
        "area = Base*Alt\n",
        "\n",
        "#SAIDA\n",
        "print('a area do Retangulo é:', area)"
      ],
      "metadata": {
        "id": "Zi7fGLEFKL1M"
      },
      "execution_count": null,
      "outputs": []
    },
    {
      "cell_type": "markdown",
      "source": [
        "###AREA DO TRIANGULO RETANGULO"
      ],
      "metadata": {
        "id": "L5OA6fdnLCYa"
      }
    },
    {
      "cell_type": "code",
      "source": [
        "#ENTRADA\n",
        "BaseT = float(input('Digite o valor da base do Triangulo: '))\n",
        "AltT = float(input('Digite o valor da Altura do Triangulo'))\n",
        "\n",
        "#PROCESSAMENTO\n",
        "areaT = BaseT*AltT /2\n",
        "\n",
        "#SAIDA\n",
        "print(\"A area do Triangulo retangulo é: \", areaT)"
      ],
      "metadata": {
        "id": "mAvZ-DDJLHbD"
      },
      "execution_count": null,
      "outputs": []
    },
    {
      "cell_type": "markdown",
      "source": [
        "###AREA DO TRAPEZIO"
      ],
      "metadata": {
        "id": "KUmKUCY7MCjK"
      }
    },
    {
      "cell_type": "code",
      "source": [
        "#ENTRADA\n",
        "BaseMaior = float(input('Digite a area do trapezio: '))\n",
        "BaseMenor = float(input('Digite a outra base do trapezio: '))\n",
        "AltTrap = float(input('Digite a altura do Trapezio: '))\n",
        "\n",
        "#PROCESSAMENTO\n",
        "AreaTrap = BaseMaior + BaseMenor * AltTrap /2\n",
        "\n",
        "#SAIDA\n",
        "print('A area do Trapezio é: ', AreaTrap)"
      ],
      "metadata": {
        "colab": {
          "base_uri": "https://localhost:8080/"
        },
        "id": "b8J7FPUBMGSD",
        "outputId": "ac3bd982-e507-4931-db15-e896c1bd1a68"
      },
      "execution_count": null,
      "outputs": [
        {
          "output_type": "stream",
          "name": "stdout",
          "text": [
            "Digite a area do trapezio: 8\n",
            "Digite a outra base do trapezio: 6\n",
            "Digite a altura do Trapezio: 5\n",
            "A area do Trapezio é:  23.0\n"
          ]
        }
      ]
    },
    {
      "cell_type": "markdown",
      "source": [
        "#calcular numero de azulejos"
      ],
      "metadata": {
        "id": "V0s2uZu7FsqZ"
      }
    },
    {
      "cell_type": "code",
      "source": [
        "# entrada\n",
        "altPa= float(input(\"Qual é o tamanho da altura da sua parede: \"));\n",
        "LargPa= float(input(\"Qual é o tamanho da largura da sua parede: \"));\n",
        "\n",
        "# processamento\n",
        "areaPa = altPa * LargPa;\n",
        "\n",
        "# saida\n",
        "print(\"A área da sua parede é: \", areaPa , \"metros\");\n",
        "\n",
        "\n",
        "# entrada\n",
        "altAz= float(input(\"Qual é o tamanho da altura do seu azulejo: \"));\n",
        "LargAz= float(input(\"Qual é o tamanho da largura do seu azulejo: \"));\n",
        "\n",
        "# processamento\n",
        "areaAz = altAz * LargAz;\n",
        "\n",
        "# saida\n",
        "print(\"A área da sua parede é: \", areaAz , \"centimetros\");\n",
        "\n",
        "\n",
        "\n",
        "# processamento\n",
        "areaAzMetro = areaAz / 100 ;\n",
        "\n",
        "quantAz = areaPa / areaAzMetro\n",
        "\n",
        "# saida\n",
        "print(\"Você vai necessitar de: \" , quantAz);"
      ],
      "metadata": {
        "id": "xQZyBN3sRj54"
      },
      "execution_count": null,
      "outputs": []
    }
  ]
}